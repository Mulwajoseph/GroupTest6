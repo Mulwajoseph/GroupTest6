{
 "cells": [
  {
   "cell_type": "code",
   "execution_count": 1,
   "id": "f9fb8f06",
   "metadata": {},
   "outputs": [],
   "source": [
    "import pandas as pd "
   ]
  },
  {
   "cell_type": "code",
   "execution_count": 2,
   "id": "2d358137",
   "metadata": {},
   "outputs": [],
   "source": [
    "df = pd.read_csv(\"adult_income.csv\")\n",
    "df"
   ]
  },
  {
   "cell_type": "code",
   "execution_count": 3,
   "id": "1d8319de",
   "metadata": {},
   "outputs": [],
   "source": [
    "results = pd.read_csv(\"results.csv\", on_bad_lines='skip')\n",
    "results"
   ]
  },
  {
   "cell_type": "code",
   "execution_count": 4,
   "id": "3a03eb20",
   "metadata": {},
   "outputs": [],
   "source": [
    "df.head()"
   ]
  },
  {
   "cell_type": "code",
   "execution_count": 5,
   "id": "8ed7f269",
   "metadata": {},
   "outputs": [],
   "source": [
    "df.info()"
   ]
  },
  {
   "cell_type": "code",
   "execution_count": 6,
   "id": "a36eb213",
   "metadata": {},
   "outputs": [],
   "source": [
    "gender_income = df[['Gender', 'income']] # when selecting multiple columns. The two square brackets.\n",
    "gender_income"
   ]
  },
  {
   "cell_type": "code",
   "execution_count": 7,
   "id": "3af83ce7",
   "metadata": {},
   "outputs": [],
   "source": [
    "type (gender_income) # panda dataframe"
   ]
  },
  {
   "cell_type": "code",
   "execution_count": 8,
   "id": "6c053c3f",
   "metadata": {},
   "outputs": [],
   "source": [
    "gender = df['Gender'] # only for one column. one square bracket \n",
    "gender"
   ]
  },
  {
   "cell_type": "code",
   "execution_count": 9,
   "id": "bb5823f7",
   "metadata": {},
   "outputs": [],
   "source": [
    "type(gender)"
   ]
  },
  {
   "cell_type": "code",
   "execution_count": 10,
   "id": "fa327e19",
   "metadata": {},
   "outputs": [],
   "source": [
    "filterdata = df.query ('age' == 90)"
   ]
  },
  {
   "cell_type": "code",
   "execution_count": null,
   "id": "474bde82",
   "metadata": {},
   "outputs": [],
   "source": [
    "df.sample()"
   ]
  },
  {
   "cell_type": "code",
   "execution_count": null,
   "id": "ad5b50ce",
   "metadata": {},
   "outputs": [],
   "source": [
    "df.sample(10)"
   ]
  },
  {
   "cell_type": "code",
   "execution_count": null,
   "id": "69c59980",
   "metadata": {},
   "outputs": [],
   "source": [
    "df.sample(10, random_state=59) # random is used for reproducibility "
   ]
  },
  {
   "cell_type": "code",
   "execution_count": null,
   "id": "59524644",
   "metadata": {},
   "outputs": [],
   "source": [
    "df.describe().T"
   ]
  },
  {
   "cell_type": "code",
   "execution_count": null,
   "id": "49236f9c",
   "metadata": {},
   "outputs": [],
   "source": [
    "df.describe(include= \"object\")"
   ]
  },
  {
   "cell_type": "code",
   "execution_count": null,
   "id": "57d55345",
   "metadata": {},
   "outputs": [],
   "source": [
    "df.info()"
   ]
  },
  {
   "cell_type": "code",
   "execution_count": null,
   "id": "0e120ab6",
   "metadata": {},
   "outputs": [],
   "source": [
    "df.info(verbose=False)"
   ]
  },
  {
   "cell_type": "code",
   "execution_count": 11,
   "id": "78c9d92c",
   "metadata": {},
   "outputs": [],
   "source": [
    "df[['age','Savings']].describe()"
   ]
  },
  {
   "cell_type": "code",
   "execution_count": null,
   "id": "a3a19aa0",
   "metadata": {},
   "outputs": [],
   "source": [
    "df[['age','Savings']].mean()"
   ]
  },
  {
   "cell_type": "code",
   "execution_count": null,
   "id": "4f56a3cb",
   "metadata": {},
   "outputs": [],
   "source": [
    "df[['age','Savings']].max()"
   ]
  },
  {
   "cell_type": "code",
   "execution_count": null,
   "id": "5396149a",
   "metadata": {},
   "outputs": [],
   "source": [
    "df[['age','Savings']].min()"
   ]
  },
  {
   "cell_type": "code",
   "execution_count": null,
   "id": "dc2b296b",
   "metadata": {},
   "outputs": [],
   "source": [
    "df[['age','Savings']].mode()"
   ]
  },
  {
   "cell_type": "code",
   "execution_count": null,
   "id": "284b7316",
   "metadata": {},
   "outputs": [],
   "source": [
    "df['Savings'].mean()"
   ]
  },
  {
   "cell_type": "code",
   "execution_count": null,
   "id": "1ae5953f",
   "metadata": {},
   "outputs": [],
   "source": [
    "df['age'].value_counts() # for mode"
   ]
  },
  {
   "cell_type": "code",
   "execution_count": null,
   "id": "a53c2ae7",
   "metadata": {},
   "outputs": [],
   "source": [
    "df.Gender.unique()"
   ]
  },
  {
   "cell_type": "code",
   "execution_count": null,
   "id": "81c63fb6",
   "metadata": {},
   "outputs": [],
   "source": [
    "df.Gender.nunique() # shows the value"
   ]
  },
  {
   "cell_type": "code",
   "execution_count": null,
   "id": "3b76363b",
   "metadata": {},
   "outputs": [],
   "source": [
    "df.Gender.value_counts()"
   ]
  },
  {
   "cell_type": "code",
   "execution_count": null,
   "id": "bfd6b9ec",
   "metadata": {},
   "outputs": [],
   "source": [
    "df.shape "
   ]
  },
  {
   "cell_type": "code",
   "execution_count": null,
   "id": "e6b8780e",
   "metadata": {},
   "outputs": [],
   "source": [
    "print(f\"This data has {df.shape[0]} rows and {df.shape[1]} columns\")"
   ]
  },
  {
   "cell_type": "code",
   "execution_count": null,
   "id": "50c7cd64",
   "metadata": {},
   "outputs": [],
   "source": [
    "df.columns"
   ]
  },
  {
   "cell_type": "code",
   "execution_count": null,
   "id": "9f0f59fa",
   "metadata": {},
   "outputs": [],
   "source": [
    "df.index"
   ]
  },
  {
   "cell_type": "code",
   "execution_count": null,
   "id": "13bccf08",
   "metadata": {},
   "outputs": [],
   "source": [
    "df.columns[1:3]"
   ]
  },
  {
   "cell_type": "code",
   "execution_count": null,
   "id": "6e936847",
   "metadata": {},
   "outputs": [],
   "source": [
    "df.columns[2:6] # this is the second, third, forth and fifth row"
   ]
  },
  {
   "cell_type": "code",
   "execution_count": null,
   "id": "15dd8663",
   "metadata": {},
   "outputs": [],
   "source": []
  },
  {
   "cell_type": "code",
   "execution_count": null,
   "id": "55156098",
   "metadata": {},
   "outputs": [],
   "source": [
    "df.iloc[1:3, 2:6]\n",
    "# 1 to 3 are rows it will print 1 and 2 row\n",
    "# 2 to 6 are columns will print from 2 to 5 but not 6"
   ]
  },
  {
   "cell_type": "code",
   "execution_count": null,
   "id": "2d34e1d1",
   "metadata": {},
   "outputs": [],
   "source": [
    "df.iloc[:, 2:6] # all rows and the selected columns"
   ]
  },
  {
   "cell_type": "code",
   "execution_count": null,
   "id": "84c29bef",
   "metadata": {},
   "outputs": [],
   "source": [
    "df.loc[:, 'Gender']"
   ]
  },
  {
   "cell_type": "code",
   "execution_count": null,
   "id": "df29bd64",
   "metadata": {},
   "outputs": [],
   "source": [
    "df.loc[3:6, 'Gender':'income'] # loc gives all 3 to 6 "
   ]
  },
  {
   "cell_type": "code",
   "execution_count": null,
   "id": "e5538f0f",
   "metadata": {},
   "outputs": [],
   "source": [
    "df.loc[df['age'] > 45]"
   ]
  },
  {
   "cell_type": "code",
   "execution_count": null,
   "id": "62906970",
   "metadata": {},
   "outputs": [],
   "source": [
    "# u set one column to be index column \n",
    "df.set_index('ID no',inplace=True)"
   ]
  },
  {
   "cell_type": "code",
   "execution_count": null,
   "id": "d8e0889f",
   "metadata": {},
   "outputs": [],
   "source": [
    "# set age from the smallest to the biggest \n",
    "df.sort_values('age', ascending=False) # it takes automatically if true"
   ]
  },
  {
   "cell_type": "code",
   "execution_count": null,
   "id": "4663d53f",
   "metadata": {},
   "outputs": [],
   "source": [
    "df.groupby('Gender')[['age', 'Savings']].mean()"
   ]
  },
  {
   "cell_type": "code",
   "execution_count": null,
   "id": "3c044aba",
   "metadata": {},
   "outputs": [],
   "source": [
    "df['age'] < 45 # False it is not less 45 "
   ]
  },
  {
   "cell_type": "code",
   "execution_count": null,
   "id": "0da60b6a",
   "metadata": {},
   "outputs": [],
   "source": [
    "df[df['age'] < 45 ] "
   ]
  },
  {
   "cell_type": "code",
   "execution_count": null,
   "id": "cd980fe1",
   "metadata": {},
   "outputs": [],
   "source": [
    "df[(df[\"age\"] < 45) & (df['Gender'] == 'Male')]"
   ]
  },
  {
   "cell_type": "code",
   "execution_count": null,
   "id": "fc3fe126",
   "metadata": {},
   "outputs": [],
   "source": [
    "df.head(20)"
   ]
  },
  {
   "cell_type": "code",
   "execution_count": null,
   "id": "4dd26661",
   "metadata": {},
   "outputs": [],
   "source": []
  }
 ],
 "metadata": {
  "kernelspec": {
   "display_name": "Python 3 (ipykernel)",
   "language": "python",
   "name": "python3"
  },
  "language_info": {
   "codemirror_mode": {
    "name": "ipython",
    "version": 3
   },
   "file_extension": ".py",
   "mimetype": "text/x-python",
   "name": "python",
   "nbconvert_exporter": "python",
   "pygments_lexer": "ipython3",
   "version": "3.11.7"
  }
 },
 "nbformat": 4,
 "nbformat_minor": 5
}
